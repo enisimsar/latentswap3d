{
 "cells": [
  {
   "cell_type": "code",
   "execution_count": null,
   "id": "459e870b-3d09-484c-9890-780945f26b99",
   "metadata": {},
   "outputs": [],
   "source": [
    "%load_ext autoreload\n",
    "%autoreload 2"
   ]
  },
  {
   "cell_type": "code",
   "execution_count": null,
   "id": "3218d45f-8bc4-46cb-97fe-f3bb287a04fc",
   "metadata": {},
   "outputs": [],
   "source": [
    "!pip install -U --no-cache-dir gdown --pre"
   ]
  },
  {
   "cell_type": "code",
   "execution_count": null,
   "id": "dbefd3a9-6aba-4810-9ea0-6e13bfbd7836",
   "metadata": {},
   "outputs": [],
   "source": [
    "import gdown\n",
    "\n",
    "gdown.download_folder(\n",
    "    \"https://drive.google.com/drive/folders/12orVtSezAOX_JublclhaWxP-f0PczpkT\",\n",
    "    output=\"./mvcgan\",\n",
    "    quiet=True\n",
    ");"
   ]
  },
  {
   "cell_type": "code",
   "execution_count": null,
   "id": "9b24303f-37eb-470b-9362-103048931e02",
   "metadata": {
    "tags": []
   },
   "outputs": [],
   "source": [
    "import os\n",
    "\n",
    "os.chdir('/content')\n",
    "CODE_DIR = 'latentswap3d'\n",
    "\n",
    "!git clone --recurse-submodules -j8 https://github.com/enisimsar/latentswap3d.git $CODE_DIR\n",
    "os.chdir(f'./{CODE_DIR}')\n",
    "\n",
    "!pip install torch==1.10.0+cu102 torchvision==0.11.0+cu102 torchaudio==0.10.0 -f https://download.pytorch.org/whl/torch_stable.html\n",
    "\n",
    "!pip install -r requirements.txt\n",
    "\n",
    "import sys\n",
    "import json\n",
    "import torch\n",
    "import numpy as np\n",
    "import pandas as pd\n",
    "import matplotlib.pyplot as plt\n",
    "\n",
    "from copy import deepcopy as dc\n",
    "from sklearn.metrics.pairwise import cosine_similarity\n",
    "\n",
    "sys.path.append(\".\")"
   ]
  },
  {
   "cell_type": "code",
   "execution_count": null,
   "id": "38f310b7-688d-455e-8c50-5e338e1824e0",
   "metadata": {},
   "outputs": [],
   "source": [
    "device = \"cuda\"\n",
    "\n",
    "from src.generators.mvcgan import MVCGANGenerator\n",
    "from src.utils.generic_utils import dotdict\n",
    "from src.encoder import Encoder\n",
    "from src.encoders import VanillaEncoder"
   ]
  },
  {
   "cell_type": "code",
   "execution_count": null,
   "id": "c43eca61-f9ea-4e72-8132-0c5221b45e78",
   "metadata": {},
   "outputs": [],
   "source": [
    "def generate_image(latent_codes):\n",
    "    left_image = generator.synthesize(\n",
    "        torch.from_numpy(latent_codes).to(generator.device), h_angle=-0.25, v_angle=0\n",
    "    )[0]\n",
    "    \n",
    "    center_image = generator.synthesize(\n",
    "        torch.from_numpy(latent_codes).to(generator.device), h_angle=0, v_angle=0\n",
    "    )[0]\n",
    "    \n",
    "    right_image = generator.synthesize(\n",
    "        torch.from_numpy(latent_codes).to(generator.device), h_angle=0.25, v_angle=0\n",
    "    )[0]\n",
    "\n",
    "    image = np.concatenate([left_image, center_image, right_image], axis=1)\n",
    "    \n",
    "    return image"
   ]
  },
  {
   "cell_type": "markdown",
   "id": "1c07cfd9-73d5-4b16-a4aa-ca551f5a601f",
   "metadata": {},
   "source": [
    "## Initialize Models"
   ]
  },
  {
   "cell_type": "code",
   "execution_count": null,
   "id": "eeba053d-b14f-40fe-b619-8d6f7a94743e",
   "metadata": {},
   "outputs": [],
   "source": [
    "generator = MVCGANGenerator(device, class_name=\"FFHQ\", is_inversion=True)"
   ]
  },
  {
   "cell_type": "code",
   "execution_count": null,
   "id": "4190ba9d-3ca1-4f77-8877-09fd8d499d35",
   "metadata": {},
   "outputs": [],
   "source": [
    "opts = dotdict({\n",
    "    \"image_size\": 512,\n",
    "    \"lpips_type\": \"alex\",\n",
    "    \"lpips_lambda\": 0.7,\n",
    "    \"id_lambda\": 0.3,\n",
    "    \"moco_lambda\": 0.0,\n",
    "    \"l2_lambda\": 0.7,\n",
    "    \"lr\": 1e-2,\n",
    "    \"lr_step\": 100,\n",
    "})\n",
    "\n",
    "v_encoder = VanillaEncoder(device, opts=opts)"
   ]
  },
  {
   "cell_type": "markdown",
   "id": "38a88a57-13a4-48e2-a5f8-4ab69f685956",
   "metadata": {},
   "source": [
    "## Face Inversion"
   ]
  },
  {
   "cell_type": "code",
   "execution_count": null,
   "id": "bb8cf816-38cd-4147-b3d0-b80aa54d8b08",
   "metadata": {},
   "outputs": [],
   "source": [
    "from google.colab import files \n",
    "uploaded_image = files.upload()\n",
    "item_info = uploaded_image.popitem()\n",
    "\n",
    "image_path = item_info[0]"
   ]
  },
  {
   "cell_type": "code",
   "execution_count": null,
   "id": "ba5b4985-ca8c-4a50-9141-993251edde51",
   "metadata": {},
   "outputs": [],
   "source": [
    "encoder = Encoder(\n",
    "    generator=generator,\n",
    "    encoder=v_encoder,\n",
    "    num_iter=600,\n",
    "    device=device,\n",
    "    save_path=\"./\",\n",
    "    image_path=image_path,\n",
    "    tune_camera=True,\n",
    "    init_camera={\n",
    "        \"h_mean\": 0,\n",
    "        \"v_mean\": 0,\n",
    "    },\n",
    ")"
   ]
  },
  {
   "cell_type": "code",
   "execution_count": null,
   "id": "b20bb1c5-4017-4c7f-8035-76c863a9b23a",
   "metadata": {},
   "outputs": [],
   "source": [
    "encoder.encode()"
   ]
  },
  {
   "cell_type": "markdown",
   "id": "e1600560-ece5-4c66-823b-1eff726c36a3",
   "metadata": {
    "tags": []
   },
   "source": [
    "## Inverted Face"
   ]
  },
  {
   "cell_type": "code",
   "execution_count": null,
   "id": "e0a6b77b-5a0d-486a-8799-bdf813b7ff6c",
   "metadata": {},
   "outputs": [],
   "source": [
    "latent_code = np.load(os.path.join(encoder.save_path, \"latent_codes.npz\"))[\"latent_codes\"]\n",
    "\n",
    "image = generate_image(latent_code)\n",
    "plt.imshow(image)"
   ]
  },
  {
   "cell_type": "markdown",
   "id": "23d205ab-9e7a-4a3d-9bfe-bce9115cbce2",
   "metadata": {},
   "source": [
    "## Load Directions"
   ]
  },
  {
   "cell_type": "code",
   "execution_count": null,
   "id": "d4df8b0a-22e3-4c67-80bd-fe08d550a58c",
   "metadata": {},
   "outputs": [],
   "source": [
    "BASE_DIR = \"../mvcgan/\"\n",
    "latent_codes = np.load(os.path.join(BASE_DIR, \"output.npz\"))[\"latent_codes\"]\n",
    "attributes = pd.read_csv(os.path.join(BASE_DIR, \"attributes.csv\"))\n",
    "feature_importances = json.load(open(os.path.join(BASE_DIR, \"results.json\")))\n",
    "best_ks = json.load(open(os.path.join(BASE_DIR, \"best_parameters.json\")))"
   ]
  },
  {
   "cell_type": "code",
   "execution_count": null,
   "id": "af838e90-397e-4d5b-9492-78e1e4c9e622",
   "metadata": {
    "tags": []
   },
   "outputs": [],
   "source": [
    "df = pd.DataFrame()\n",
    "\n",
    "sim = []\n",
    "for i, _ in df.iterrows():\n",
    "    sim.append(cosine_similarity(latent_code, latent_codes[i].reshape(1, -1))[0, 0])\n",
    "df[\"sim\"] = sim"
   ]
  },
  {
   "cell_type": "markdown",
   "id": "b88ee709-a979-4b29-8a7a-fc7cc465ed17",
   "metadata": {
    "tags": []
   },
   "source": [
    "## Editing"
   ]
  },
  {
   "cell_type": "code",
   "execution_count": null,
   "id": "5d98afd0-a0c0-4013-86f8-ba4661a1d127",
   "metadata": {},
   "outputs": [],
   "source": [
    "attribute_dir = {\n",
    "    \"smiling\": -1,\n",
    "    \"eyeglasses\": -1,\n",
    "}\n",
    "attr = 'eyeglasses' #@param ['smiling', 'eyeglasses']"
   ]
  },
  {
   "cell_type": "code",
   "execution_count": null,
   "id": "2051d3f7-265f-4255-a4ed-84ff651a3d54",
   "metadata": {},
   "outputs": [],
   "source": [
    "direction = attribute_dir[attr]\n",
    "df[\"attribute\"] = attributes[attr].values\n",
    "\n",
    "positive_code = latent_codes[\n",
    "    df.sort_values([\"attribute\", \"sim\"], ascending=[False, True]).index[0]\n",
    "].reshape(1, -1)\n",
    "negative_code = latent_codes[\n",
    "    df.sort_values([\"attribute\", \"sim\"]).index[0]\n",
    "].reshape(1, -1)\n",
    "\n",
    "feature_importance = feature_importances[attr]\n",
    "best_k = best_ks[attr][\"best_k\"]\n",
    "\n",
    "codes = positive_code\n",
    "if direction < 0:\n",
    "    codes = negative_code\n",
    "\n",
    "manipulated_code = dc(latent_code)\n",
    "for ind, val in zip(\n",
    "    feature_importance[:best_k], codes[:, feature_importance[:best_k]][0]\n",
    "):\n",
    "    manipulated_code[:, ind] = val\n",
    "\n",
    "image = generate_image(manipulated_code)\n",
    "\n",
    "plt.imshow(image)"
   ]
  }
 ],
 "metadata": {
  "accelerator": "GPU",
  "colab": {
   "name": "inference_playground.ipynb",
   "provenance": []
  },
  "kernelspec": {
   "display_name": "Python 3",
   "language": "python",
   "name": "python3"
  },
  "language_info": {
   "codemirror_mode": {
    "name": "ipython",
    "version": 3
   },
   "file_extension": ".py",
   "mimetype": "text/x-python",
   "name": "python",
   "nbconvert_exporter": "python",
   "pygments_lexer": "ipython3",
   "version": "3.6.7"
  }
 },
 "nbformat": 4,
 "nbformat_minor": 1
}
