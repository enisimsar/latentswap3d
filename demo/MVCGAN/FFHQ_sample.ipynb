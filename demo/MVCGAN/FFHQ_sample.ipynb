{
 "cells": [
  {
   "cell_type": "code",
   "execution_count": null,
   "id": "4064fa59-51d8-4ca5-9bd5-2d3541523e11",
   "metadata": {},
   "outputs": [],
   "source": [
    "%load_ext autoreload\n",
    "%autoreload 2"
   ]
  },
  {
   "cell_type": "code",
   "execution_count": null,
   "id": "706bc9e0-0b4d-415c-b086-c460cb2b6afc",
   "metadata": {},
   "outputs": [],
   "source": [
    "!pip install -U --no-cache-dir gdown --pre"
   ]
  },
  {
   "cell_type": "code",
   "execution_count": null,
   "id": "70382284-a79a-4874-8fd7-b7b6a11cf217",
   "metadata": {},
   "outputs": [],
   "source": [
    "import gdown\n",
    "\n",
    "gdown.download_folder(\n",
    "    \"https://drive.google.com/drive/folders/12orVtSezAOX_JublclhaWxP-f0PczpkT\",\n",
    "    output=\"./mvcgan\",\n",
    "    quiet=True\n",
    ");"
   ]
  },
  {
   "cell_type": "code",
   "execution_count": null,
   "id": "94dd5606-ab20-481b-87e2-408972dce6b5",
   "metadata": {
    "tags": []
   },
   "outputs": [],
   "source": [
    "import os\n",
    "\n",
    "os.chdir('/content')\n",
    "CODE_DIR = 'latentswap3d'\n",
    "\n",
    "!git clone --recurse-submodules -j8 https://github.com/enisimsar/latentswap3d.git $CODE_DIR\n",
    "os.chdir(f'./{CODE_DIR}')\n",
    "\n",
    "!pip install torch==1.10.0+cu102 torchvision==0.11.0+cu102 torchaudio==0.10.0 -f https://download.pytorch.org/whl/torch_stable.html\n",
    "\n",
    "!pip install -r requirements.txt\n",
    "\n",
    "import sys\n",
    "import json\n",
    "import torch\n",
    "import numpy as np\n",
    "import pandas as pd\n",
    "import matplotlib.pyplot as plt\n",
    "\n",
    "from copy import deepcopy as dc\n",
    "from sklearn.metrics.pairwise import cosine_similarity\n",
    "\n",
    "sys.path.append(\".\")"
   ]
  },
  {
   "cell_type": "code",
   "execution_count": null,
   "id": "eeba053d-b14f-40fe-b619-8d6f7a94743e",
   "metadata": {},
   "outputs": [],
   "source": [
    "device = \"cuda\"\n",
    "\n",
    "from src.generators.mvcgan import MVCGANGenerator"
   ]
  },
  {
   "cell_type": "code",
   "execution_count": null,
   "id": "c43eca61-f9ea-4e72-8132-0c5221b45e78",
   "metadata": {},
   "outputs": [],
   "source": [
    "def generate_image(latent_codes):\n",
    "    left_image = generator.synthesize(\n",
    "        torch.from_numpy(latent_codes).to(generator.device), h_angle=-0.25, v_angle=0\n",
    "    )[0]\n",
    "    \n",
    "    center_image = generator.synthesize(\n",
    "        torch.from_numpy(latent_codes).to(generator.device), h_angle=0, v_angle=0\n",
    "    )[0]\n",
    "    \n",
    "    right_image = generator.synthesize(\n",
    "        torch.from_numpy(latent_codes).to(generator.device), h_angle=0.25, v_angle=0\n",
    "    )[0]\n",
    "\n",
    "    image = np.concatenate([left_image, center_image, right_image], axis=1)\n",
    "    \n",
    "    return image"
   ]
  },
  {
   "cell_type": "markdown",
   "id": "5b5da667-de46-46d2-9033-31234a9cc521",
   "metadata": {
    "tags": []
   },
   "source": [
    "## Initialize Models"
   ]
  },
  {
   "cell_type": "code",
   "execution_count": null,
   "id": "4f9df846-2b94-4c58-b58d-9c31af5f64fa",
   "metadata": {},
   "outputs": [],
   "source": [
    "generator = MVCGANGenerator(device, class_name=\"FFHQ\")"
   ]
  },
  {
   "cell_type": "markdown",
   "id": "e1600560-ece5-4c66-823b-1eff726c36a3",
   "metadata": {
    "tags": []
   },
   "source": [
    "## Sample Face"
   ]
  },
  {
   "cell_type": "code",
   "execution_count": null,
   "id": "e0a6b77b-5a0d-486a-8799-bdf813b7ff6c",
   "metadata": {},
   "outputs": [],
   "source": [
    "SEED = 272960755 # np.random.randint(np.iinfo(np.int32).max)\n",
    "\n",
    "sample_code = (\n",
    "    generator.get_codes(generator.sample_latent(1, SEED)).detach().cpu().numpy()\n",
    ")\n",
    "\n",
    "image = generate_image(sample_code)\n",
    "plt.imshow(image)"
   ]
  },
  {
   "cell_type": "markdown",
   "id": "23d205ab-9e7a-4a3d-9bfe-bce9115cbce2",
   "metadata": {},
   "source": [
    "## Load Directions"
   ]
  },
  {
   "cell_type": "code",
   "execution_count": null,
   "id": "d4df8b0a-22e3-4c67-80bd-fe08d550a58c",
   "metadata": {},
   "outputs": [],
   "source": [
    "BASE_DIR = \"../mvcgan/\"\n",
    "latent_codes = np.load(os.path.join(BASE_DIR, \"output.npz\"))[\"latent_codes\"]\n",
    "attributes = pd.read_csv(os.path.join(BASE_DIR, \"attributes.csv\"))\n",
    "feature_importances = json.load(open(os.path.join(BASE_DIR, \"results.json\")))\n",
    "best_ks = json.load(open(os.path.join(BASE_DIR, \"best_parameters.json\")))"
   ]
  },
  {
   "cell_type": "code",
   "execution_count": null,
   "id": "af838e90-397e-4d5b-9492-78e1e4c9e622",
   "metadata": {
    "tags": []
   },
   "outputs": [],
   "source": [
    "df = pd.DataFrame()\n",
    "\n",
    "sim = []\n",
    "for i, _ in df.iterrows():\n",
    "    sim.append(cosine_similarity(sample_code, latent_codes[i].reshape(1, -1))[0, 0])\n",
    "df[\"sim\"] = sim"
   ]
  },
  {
   "cell_type": "markdown",
   "id": "4cc2ad77-8eb2-470a-b8bd-863b2e58ce51",
   "metadata": {
    "tags": []
   },
   "source": [
    "## Editing"
   ]
  },
  {
   "cell_type": "code",
   "execution_count": null,
   "id": "1e4899b5-6a88-44c9-a4c2-21d1337b4d4c",
   "metadata": {},
   "outputs": [],
   "source": [
    "attribute_dir = {\n",
    "    \"smiling\": -1,\n",
    "    \"eyeglasses\": -1,\n",
    "    \"facial_hair\": 1\n",
    "}\n",
    "attr = 'facial_hair' #@param [\"smiling\", \"eyeglasses\", \"facial_hair\"]"
   ]
  },
  {
   "cell_type": "code",
   "execution_count": null,
   "id": "465da7ea-617b-40df-8562-811bb94f1f00",
   "metadata": {},
   "outputs": [],
   "source": [
    "direction = attribute_dir[attr]\n",
    "df[\"attribute\"] = attributes[attr].values\n",
    "\n",
    "positive_code = latent_codes[\n",
    "    df.sort_values([\"attribute\", \"sim\"], ascending=[False, True]).index[0]\n",
    "].reshape(1, -1)\n",
    "negative_code = latent_codes[\n",
    "    df.sort_values([\"attribute\", \"sim\"]).index[0]\n",
    "].reshape(1, -1)\n",
    "\n",
    "feature_importance = feature_importances[attr]\n",
    "best_k = best_ks[attr][\"best_k\"]\n",
    "\n",
    "codes = positive_code\n",
    "if direction < 0:\n",
    "    codes = negative_code\n",
    "\n",
    "manipulated_code = dc(sample_code)\n",
    "for ind, val in zip(\n",
    "    feature_importance[:best_k], codes[:, feature_importance[:best_k]][0]\n",
    "):\n",
    "    manipulated_code[:, ind] = val\n",
    "\n",
    "image = generate_image(manipulated_code)\n",
    "\n",
    "plt.imshow(image)"
   ]
  }
 ],
 "metadata": {
  "accelerator": "GPU",
  "colab": {
   "name": "inference_playground.ipynb",
   "provenance": []
  },
  "kernelspec": {
   "display_name": "Python 3",
   "language": "python",
   "name": "python3"
  },
  "language_info": {
   "codemirror_mode": {
    "name": "ipython",
    "version": 3
   },
   "file_extension": ".py",
   "mimetype": "text/x-python",
   "name": "python",
   "nbconvert_exporter": "python",
   "pygments_lexer": "ipython3",
   "version": "3.6.7"
  }
 },
 "nbformat": 4,
 "nbformat_minor": 1
}
